{
 "cells": [
  {
   "cell_type": "markdown",
   "id": "450d0dd5",
   "metadata": {},
   "source": [
    "# Search Engine with TOOLs and AGENTs"
   ]
  },
  {
   "cell_type": "code",
   "execution_count": null,
   "id": "6324b438",
   "metadata": {},
   "outputs": [],
   "source": []
  },
  {
   "cell_type": "code",
   "execution_count": null,
   "id": "c5147af0",
   "metadata": {},
   "outputs": [],
   "source": []
  },
  {
   "cell_type": "code",
   "execution_count": null,
   "id": "593deb2c",
   "metadata": {},
   "outputs": [],
   "source": []
  }
 ],
 "metadata": {
  "kernelspec": {
   "display_name": "Python 3",
   "language": "python",
   "name": "python3"
  },
  "language_info": {
   "name": "python",
   "version": "3.10.0"
  }
 },
 "nbformat": 4,
 "nbformat_minor": 5
}
